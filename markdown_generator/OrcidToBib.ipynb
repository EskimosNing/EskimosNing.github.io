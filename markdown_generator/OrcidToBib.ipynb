{
 "cells": [
  {
   "cell_type": "code",
   "execution_count": 34,
   "id": "01f0c5c2-619a-48e0-bb7c-e5e0be009f0e",
   "metadata": {},
   "outputs": [],
   "source": [
    "orcid = '0009-0008-1112-2376' # Fill your orcid here"
   ]
  },
  {
   "cell_type": "code",
   "execution_count": 35,
   "id": "2fe4bc4e-4574-4322-8b18-0c4d33a749fa",
   "metadata": {},
   "outputs": [],
   "source": [
    "import requests"
   ]
  },
  {
   "cell_type": "markdown",
   "id": "44a8b6cd-4034-4fc4-85a8-e3431dc564f1",
   "metadata": {},
   "source": [
    "We use the `/works` api to list all works related to the orcid. This gives a summary of all works, so citation information is not included. We collect the `put-code` of all works to retrieve the citation information later."
   ]
  },
  {
   "cell_type": "code",
   "execution_count": 36,
   "id": "3b04331e-4149-4ca3-a0aa-89e3ba892723",
   "metadata": {},
   "outputs": [],
   "source": [
    "response = requests.get('https://pub.orcid.org/v3.0/{}/works'.format(orcid),\n",
    "                        headers={\"Accept\": \"application/orcid+json\" })\n",
    "record = response.json()"
   ]
  },
  {
   "cell_type": "code",
   "execution_count": 37,
   "id": "c96b9c15",
   "metadata": {},
   "outputs": [
    {
     "data": {
      "text/plain": [
       "{'last-modified-date': {'value': 1729933874422},\n",
       " 'group': [{'last-modified-date': {'value': 1725509486848},\n",
       "   'external-ids': {'external-id': []},\n",
       "   'work-summary': [{'put-code': 166847242,\n",
       "     'created-date': {'value': 1725509486848},\n",
       "     'last-modified-date': {'value': 1725509486848},\n",
       "     'source': {'source-orcid': {'uri': 'https://orcid.org/0009-0008-1112-2376',\n",
       "       'path': '0009-0008-1112-2376',\n",
       "       'host': 'orcid.org'},\n",
       "      'source-client-id': None,\n",
       "      'source-name': {'value': 'Jianing Zhao'},\n",
       "      'assertion-origin-orcid': None,\n",
       "      'assertion-origin-client-id': None,\n",
       "      'assertion-origin-name': None},\n",
       "     'title': {'title': {'value': 'ANOTO: Improving Automated Negotiation via Offline-to-Online Reinforcement Learning'},\n",
       "      'subtitle': None,\n",
       "      'translated-title': None},\n",
       "     'external-ids': {'external-id': [{'external-id-type': 'isbn',\n",
       "        'external-id-value': '9798400704864',\n",
       "        'external-id-normalized': {'value': '9798400704864',\n",
       "         'transient': True},\n",
       "        'external-id-normalized-error': None,\n",
       "        'external-id-url': None,\n",
       "        'external-id-relationship': 'part-of'}]},\n",
       "     'url': None,\n",
       "     'type': 'conference-paper',\n",
       "     'publication-date': {'year': {'value': '2024'},\n",
       "      'month': None,\n",
       "      'day': None},\n",
       "     'journal-title': {'value': 'Proceedings of the 23rd International Conference on Autonomous Agents and Multiagent Systems'},\n",
       "     'visibility': 'public',\n",
       "     'path': '/0009-0008-1112-2376/work/166847242',\n",
       "     'display-index': '0'}]},\n",
       "  {'last-modified-date': {'value': 1707595520089},\n",
       "   'external-ids': {'external-id': [{'external-id-type': 'uri',\n",
       "      'external-id-value': 'https://proceedings.mlr.press/v216/chen23c.html',\n",
       "      'external-id-normalized': {'value': 'https://proceedings.mlr.press/v216/chen23c.html',\n",
       "       'transient': True},\n",
       "      'external-id-normalized-error': None,\n",
       "      'external-id-url': None,\n",
       "      'external-id-relationship': 'self'}]},\n",
       "   'work-summary': [{'put-code': 152876374,\n",
       "     'created-date': {'value': 1707595520089},\n",
       "     'last-modified-date': {'value': 1707595520089},\n",
       "     'source': {'source-orcid': {'uri': 'https://orcid.org/0009-0008-1112-2376',\n",
       "       'path': '0009-0008-1112-2376',\n",
       "       'host': 'orcid.org'},\n",
       "      'source-client-id': None,\n",
       "      'source-name': {'value': 'Jianing Zhao'},\n",
       "      'assertion-origin-orcid': None,\n",
       "      'assertion-origin-client-id': None,\n",
       "      'assertion-origin-name': None},\n",
       "     'title': {'title': {'value': 'An effective negotiating agent framework based on deep offline reinforcement learning'},\n",
       "      'subtitle': None,\n",
       "      'translated-title': None},\n",
       "     'external-ids': {'external-id': [{'external-id-type': 'uri',\n",
       "        'external-id-value': 'https://proceedings.mlr.press/v216/chen23c.html',\n",
       "        'external-id-normalized': {'value': 'https://proceedings.mlr.press/v216/chen23c.html',\n",
       "         'transient': True},\n",
       "        'external-id-normalized-error': None,\n",
       "        'external-id-url': None,\n",
       "        'external-id-relationship': 'self'}]},\n",
       "     'url': {'value': 'https://proceedings.mlr.press/v216/chen23c.html'},\n",
       "     'type': 'conference-paper',\n",
       "     'publication-date': {'year': {'value': '2023'},\n",
       "      'month': None,\n",
       "      'day': None},\n",
       "     'journal-title': {'value': 'Proceedings of the Thirty-Ninth Conference on Uncertainty in Artificial Intelligence'},\n",
       "     'visibility': 'public',\n",
       "     'path': '/0009-0008-1112-2376/work/152876374',\n",
       "     'display-index': '1'}]},\n",
       "  {'last-modified-date': {'value': 1729933874422},\n",
       "   'external-ids': {'external-id': [{'external-id-type': 'doi',\n",
       "      'external-id-value': '10.1007/978-3-031-33377-4_30',\n",
       "      'external-id-normalized': {'value': '10.1007/978-3-031-33377-4_30',\n",
       "       'transient': True},\n",
       "      'external-id-normalized-error': None,\n",
       "      'external-id-url': {'value': 'https://doi.org/10.1007/978-3-031-33377-4_30'},\n",
       "      'external-id-relationship': 'self'}]},\n",
       "   'work-summary': [{'put-code': 166847236,\n",
       "     'created-date': {'value': 1725509420928},\n",
       "     'last-modified-date': {'value': 1729933874422},\n",
       "     'source': {'source-orcid': {'uri': 'https://orcid.org/0009-0008-1112-2376',\n",
       "       'path': '0009-0008-1112-2376',\n",
       "       'host': 'orcid.org'},\n",
       "      'source-client-id': None,\n",
       "      'source-name': {'value': 'Jianing Zhao'},\n",
       "      'assertion-origin-orcid': None,\n",
       "      'assertion-origin-client-id': None,\n",
       "      'assertion-origin-name': None},\n",
       "     'title': {'title': {'value': 'Transfer Reinforcement Learning Based Negotiating Agent Framework'},\n",
       "      'subtitle': None,\n",
       "      'translated-title': None},\n",
       "     'external-ids': {'external-id': [{'external-id-type': 'doi',\n",
       "        'external-id-value': '10.1007/978-3-031-33377-4_30',\n",
       "        'external-id-normalized': {'value': '10.1007/978-3-031-33377-4_30',\n",
       "         'transient': True},\n",
       "        'external-id-normalized-error': None,\n",
       "        'external-id-url': {'value': 'https://doi.org/10.1007/978-3-031-33377-4_30'},\n",
       "        'external-id-relationship': 'self'},\n",
       "       {'external-id-type': 'isbn',\n",
       "        'external-id-value': '9783031333767',\n",
       "        'external-id-normalized': {'value': '9783031333767',\n",
       "         'transient': True},\n",
       "        'external-id-normalized-error': None,\n",
       "        'external-id-url': {'value': 'https://www.worldcat.org/isbn/9783031333767'},\n",
       "        'external-id-relationship': 'part-of'},\n",
       "       {'external-id-type': 'isbn',\n",
       "        'external-id-value': '9783031333774',\n",
       "        'external-id-normalized': {'value': '9783031333774',\n",
       "         'transient': True},\n",
       "        'external-id-normalized-error': None,\n",
       "        'external-id-url': {'value': 'https://www.worldcat.org/isbn/9783031333774'},\n",
       "        'external-id-relationship': 'part-of'},\n",
       "       {'external-id-type': 'issn',\n",
       "        'external-id-value': '0302-9743',\n",
       "        'external-id-normalized': {'value': '0302-9743', 'transient': True},\n",
       "        'external-id-normalized-error': None,\n",
       "        'external-id-url': {'value': 'https://portal.issn.org/resource/ISSN/0302-9743'},\n",
       "        'external-id-relationship': 'part-of'},\n",
       "       {'external-id-type': 'issn',\n",
       "        'external-id-value': '1611-3349',\n",
       "        'external-id-normalized': {'value': '1611-3349', 'transient': True},\n",
       "        'external-id-normalized-error': None,\n",
       "        'external-id-url': {'value': 'https://portal.issn.org/resource/ISSN/1611-3349'},\n",
       "        'external-id-relationship': 'part-of'}]},\n",
       "     'url': {'value': 'http://dx.doi.org/10.1007/978-3-031-33377-4_30'},\n",
       "     'type': 'book-chapter',\n",
       "     'publication-date': {'year': {'value': '2023'},\n",
       "      'month': None,\n",
       "      'day': None},\n",
       "     'journal-title': {'value': 'Lecture Notes in Computer Science'},\n",
       "     'visibility': 'public',\n",
       "     'path': '/0009-0008-1112-2376/work/166847236',\n",
       "     'display-index': '0'}]}],\n",
       " 'path': '/0009-0008-1112-2376/works'}"
      ]
     },
     "execution_count": 37,
     "metadata": {},
     "output_type": "execute_result"
    }
   ],
   "source": [
    "record"
   ]
  },
  {
   "cell_type": "code",
   "execution_count": 38,
   "id": "16f7c42d-623b-421a-8d87-bbb389313e3b",
   "metadata": {
    "scrolled": true
   },
   "outputs": [],
   "source": [
    "put_codes = []\n",
    "for work in record['group']:\n",
    "    put_code = work['work-summary'][0]['put-code']\n",
    "    put_codes.append(put_code)\n",
    "put_code = put_codes[0]"
   ]
  },
  {
   "cell_type": "code",
   "execution_count": 39,
   "id": "2bafce1f",
   "metadata": {},
   "outputs": [
    {
     "data": {
      "text/plain": [
       "[166847242, 152876374, 166847236]"
      ]
     },
     "execution_count": 39,
     "metadata": {},
     "output_type": "execute_result"
    }
   ],
   "source": [
    "put_codes"
   ]
  },
  {
   "cell_type": "markdown",
   "id": "25e5d2aa-5233-486e-abce-a0d07a36c5ce",
   "metadata": {},
   "source": [
    "We use the `/<orcid>/work/<put-code>` endpoint to retrieve the citation information for each record."
   ]
  },
  {
   "cell_type": "code",
   "execution_count": 40,
   "id": "dd797a16-0d91-4271-8e1e-b82579a07e45",
   "metadata": {},
   "outputs": [],
   "source": [
    "citations = []\n",
    "for put_code in put_codes:\n",
    "    response = requests.get('https://pub.orcid.org/v3.0/{}/work/{}'.format(orcid, put_code),\n",
    "                            headers={\"Accept\": \"application/orcid+json\" })\n",
    "    work = response.json()\n",
    "    if work['citation'] is not None:\n",
    "        citations.append(work['citation']['citation-value'])"
   ]
  },
  {
   "cell_type": "code",
   "execution_count": 41,
   "id": "75fb0e88",
   "metadata": {},
   "outputs": [
    {
     "data": {
      "text/plain": [
       "{'created-date': {'value': 1725509420928},\n",
       " 'last-modified-date': {'value': 1729933874422},\n",
       " 'source': {'source-orcid': {'uri': 'https://orcid.org/0009-0008-1112-2376',\n",
       "   'path': '0009-0008-1112-2376',\n",
       "   'host': 'orcid.org'},\n",
       "  'source-client-id': None,\n",
       "  'source-name': {'value': 'Jianing Zhao'},\n",
       "  'assertion-origin-orcid': None,\n",
       "  'assertion-origin-client-id': None,\n",
       "  'assertion-origin-name': None},\n",
       " 'put-code': 166847236,\n",
       " 'path': '/0009-0008-1112-2376/work/166847236',\n",
       " 'title': {'title': {'value': 'Transfer Reinforcement Learning Based Negotiating Agent Framework'},\n",
       "  'subtitle': None,\n",
       "  'translated-title': None},\n",
       " 'journal-title': {'value': 'Lecture Notes in Computer Science'},\n",
       " 'short-description': None,\n",
       " 'citation': {'citation-type': 'bibtex',\n",
       "  'citation-value': '@InProceedings{10.1007/978-3-031-33377-4_30,\\nauthor=\"Chen, Siqi\\nand Yang, Tianpei\\nand You, Heng\\nand Zhao, Jianing\\nand Hao, Jianye\\nand Weiss, Gerhard\",\\neditor=\"Kashima, Hisashi\\nand Ide, Tsuyoshi\\nand Peng, Wen-Chih\",\\ntitle=\"Transfer Reinforcement Learning Based Negotiating Agent Framework\",\\nbooktitle=\"Advances in Knowledge Discovery and Data Mining\",\\nyear=\"2023\",\\npublisher=\"Springer Nature Switzerland\",\\naddress=\"Cham\",\\npages=\"386--397\",\\nabstract=\"While achieving tremendous success, there is still a major issue standing out in the domain of automated negotiation: it is inefficient for a negotiating agent to learn a strategy from scratch when being faced with an unknown opponent. Transfer learning can alleviate this problem by utilizing the knowledge of previously learned policies to accelerate the current task learning. This work presents a novel Transfer Learning based Negotiating Agent (TLNAgent) framework that allows a negotiating agent to transfer previous knowledge from source strategies optimized by deep reinforcement learning, to boost its performance in new tasks. TLNAgent comprises three key components: the negotiation module, the adaptation module and the transfer module. To be specific, the negotiation module is responsible for interacting with the other agent during negotiation. The adaptation module measures the helpfulness of each source policy based on a fusion of two selection mechanisms. The transfer module is based on lateral connections between source and target networks and accelerates the agent\\'s training by transferring knowledge from the selected source strategy. Our comprehensive experiments clearly demonstrate that TL is effective in the context of automated negotiation, and TLNAgent outperforms state-of-the-art Automated Negotiating Agents Competition (ANAC) negotiating agents in various domains.\",\\nisbn=\"978-3-031-33377-4\"\\n}\\n\\n'},\n",
       " 'type': 'book-chapter',\n",
       " 'publication-date': {'year': {'value': '2023'}, 'month': None, 'day': None},\n",
       " 'external-ids': {'external-id': [{'external-id-type': 'doi',\n",
       "    'external-id-value': '10.1007/978-3-031-33377-4_30',\n",
       "    'external-id-normalized': {'value': '10.1007/978-3-031-33377-4_30',\n",
       "     'transient': True},\n",
       "    'external-id-normalized-error': None,\n",
       "    'external-id-url': {'value': 'https://doi.org/10.1007/978-3-031-33377-4_30'},\n",
       "    'external-id-relationship': 'self'},\n",
       "   {'external-id-type': 'isbn',\n",
       "    'external-id-value': '9783031333767',\n",
       "    'external-id-normalized': {'value': '9783031333767', 'transient': True},\n",
       "    'external-id-normalized-error': None,\n",
       "    'external-id-url': {'value': 'https://www.worldcat.org/isbn/9783031333767'},\n",
       "    'external-id-relationship': 'part-of'},\n",
       "   {'external-id-type': 'isbn',\n",
       "    'external-id-value': '9783031333774',\n",
       "    'external-id-normalized': {'value': '9783031333774', 'transient': True},\n",
       "    'external-id-normalized-error': None,\n",
       "    'external-id-url': {'value': 'https://www.worldcat.org/isbn/9783031333774'},\n",
       "    'external-id-relationship': 'part-of'},\n",
       "   {'external-id-type': 'issn',\n",
       "    'external-id-value': '0302-9743',\n",
       "    'external-id-normalized': {'value': '0302-9743', 'transient': True},\n",
       "    'external-id-normalized-error': None,\n",
       "    'external-id-url': {'value': 'https://portal.issn.org/resource/ISSN/0302-9743'},\n",
       "    'external-id-relationship': 'part-of'},\n",
       "   {'external-id-type': 'issn',\n",
       "    'external-id-value': '1611-3349',\n",
       "    'external-id-normalized': {'value': '1611-3349', 'transient': True},\n",
       "    'external-id-normalized-error': None,\n",
       "    'external-id-url': {'value': 'https://portal.issn.org/resource/ISSN/1611-3349'},\n",
       "    'external-id-relationship': 'part-of'}]},\n",
       " 'url': {'value': 'http://dx.doi.org/10.1007/978-3-031-33377-4_30'},\n",
       " 'contributors': {'contributor': [{'contributor-orcid': {'uri': 'https://orcid.org/0000-0002-2460-4381',\n",
       "     'path': '0000-0002-2460-4381',\n",
       "     'host': None},\n",
       "    'credit-name': {'value': 'Siqi Chen'},\n",
       "    'contributor-email': None,\n",
       "    'contributor-attributes': {'contributor-sequence': None,\n",
       "     'contributor-role': 'author'}},\n",
       "   {'contributor-orcid': {'uri': None, 'path': None, 'host': None},\n",
       "    'credit-name': {'value': 'Tianpei Yang'},\n",
       "    'contributor-email': None,\n",
       "    'contributor-attributes': {'contributor-sequence': None,\n",
       "     'contributor-role': 'author'}},\n",
       "   {'contributor-orcid': {'uri': None, 'path': None, 'host': None},\n",
       "    'credit-name': {'value': 'Heng You'},\n",
       "    'contributor-email': None,\n",
       "    'contributor-attributes': {'contributor-sequence': None,\n",
       "     'contributor-role': 'author'}},\n",
       "   {'contributor-orcid': {'uri': None, 'path': None, 'host': None},\n",
       "    'credit-name': {'value': 'Jianing Zhao'},\n",
       "    'contributor-email': None,\n",
       "    'contributor-attributes': {'contributor-sequence': None,\n",
       "     'contributor-role': 'author'}},\n",
       "   {'contributor-orcid': {'uri': None, 'path': None, 'host': None},\n",
       "    'credit-name': {'value': 'Jianye Hao'},\n",
       "    'contributor-email': None,\n",
       "    'contributor-attributes': {'contributor-sequence': None,\n",
       "     'contributor-role': 'author'}},\n",
       "   {'contributor-orcid': {'uri': None, 'path': None, 'host': None},\n",
       "    'credit-name': {'value': 'Gerhard Weiss'},\n",
       "    'contributor-email': None,\n",
       "    'contributor-attributes': {'contributor-sequence': None,\n",
       "     'contributor-role': 'author'}}]},\n",
       " 'language-code': None,\n",
       " 'country': None,\n",
       " 'visibility': 'public'}"
      ]
     },
     "execution_count": 41,
     "metadata": {},
     "output_type": "execute_result"
    }
   ],
   "source": [
    "work"
   ]
  },
  {
   "cell_type": "code",
   "execution_count": 42,
   "id": "ad763df9-261f-41f3-bc32-00921d0a4e11",
   "metadata": {},
   "outputs": [],
   "source": [
    "with open('output.bib', 'w') as bibfile:\n",
    "    for citation in citations:\n",
    "        bibfile.write(citation)\n",
    "        bibfile.write('\\n')"
   ]
  }
 ],
 "metadata": {
  "kernelspec": {
   "display_name": "picture",
   "language": "python",
   "name": "python3"
  },
  "language_info": {
   "codemirror_mode": {
    "name": "ipython",
    "version": 3
   },
   "file_extension": ".py",
   "mimetype": "text/x-python",
   "name": "python",
   "nbconvert_exporter": "python",
   "pygments_lexer": "ipython3",
   "version": "3.8.15"
  }
 },
 "nbformat": 4,
 "nbformat_minor": 5
}
